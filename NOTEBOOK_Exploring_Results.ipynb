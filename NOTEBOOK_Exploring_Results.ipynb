{
 "cells": [
  {
   "cell_type": "code",
   "execution_count": 1,
   "metadata": {},
   "outputs": [],
   "source": [
    "# Import packages\n",
    "import json\n",
    "import pandas as pd\n",
    "import matplotlib.pyplot as plt\n",
    "import numpy as np\n",
    "%matplotlib inline"
   ]
  },
  {
   "cell_type": "code",
   "execution_count": 2,
   "metadata": {},
   "outputs": [],
   "source": [
    "# Load donations.json\n",
    "\n",
    "filename = \"data/chrissie_donations.json\"\n",
    "\n",
    "with open(filename) as json_file: \n",
    "    donations = json.load(json_file)"
   ]
  },
  {
   "cell_type": "markdown",
   "metadata": {},
   "source": [
    "# La thunasse ramassée au total"
   ]
  },
  {
   "cell_type": "code",
   "execution_count": 3,
   "metadata": {},
   "outputs": [
    {
     "name": "stdout",
     "output_type": "stream",
     "text": [
      "la thunasse total ramassée sur 22 vidéos est de :  6712  €\n"
     ]
    }
   ],
   "source": [
    "L = []\n",
    "for videoid,videoobj in donations.items():\n",
    "    amount = videoobj[\"resume\"][\"donations_total\"]\n",
    "    date = videoobj[\"resume\"][\"start_unix\"]\n",
    "    duration = videoobj[\"resume\"][\"duration_seconds\"]\n",
    "    L.append((date,amount,duration))\n",
    "    \n",
    "L.sort(key = lambda a : a[0])\n",
    "thunasse_total = sum([item[1] for item in L])\n",
    "\n",
    "print(\"la thunasse total ramassée sur\", str(len(donations)), \"vidéos est de : \", str(round(thunasse_total)), \" €\")"
   ]
  },
  {
   "cell_type": "markdown",
   "metadata": {},
   "source": [
    "# Taux horaire"
   ]
  },
  {
   "cell_type": "code",
   "execution_count": 4,
   "metadata": {},
   "outputs": [
    {
     "name": "stdout",
     "output_type": "stream",
     "text": [
      "Taux horaire :  167.21 € / h\n"
     ]
    }
   ],
   "source": [
    "total_duration = sum([item[2] for item in L])\n",
    "winrate = (3600*thunasse_total) / total_duration\n",
    "\n",
    "print(\"Taux horaire : \",str(round(winrate,2)),\"€ / h\")"
   ]
  },
  {
   "cell_type": "markdown",
   "metadata": {},
   "source": [
    "# La thunasse cumulée ramassée dans le temps"
   ]
  },
  {
   "cell_type": "code",
   "execution_count": 5,
   "metadata": {},
   "outputs": [],
   "source": [
    "x = []\n",
    "y = []\n",
    "for item in L:\n",
    "    x.append(item[0])\n",
    "    y.append(item[1])\n",
    "x = np.array(x)\n",
    "y = np.array(y)"
   ]
  },
  {
   "cell_type": "code",
   "execution_count": 6,
   "metadata": {},
   "outputs": [
    {
     "data": {
      "image/png": "[encoded data removed]",
      "text/plain": [
       "<Figure size 432x288 with 1 Axes>"
      ]
     },
     "metadata": {
      "needs_background": "light"
     },
     "output_type": "display_data"
    }
   ],
   "source": [
    "nthicks = 5\n",
    "x_thicks = np.linspace(x[0],x[-1],nthicks)\n",
    "x_thicks_labels = pd.to_datetime(x_thicks,unit=\"s\")\n",
    "x_thicks_labels = [str(item.year)+\"_\"+str(item.month) for item in x_thicks_labels]\n",
    "\n",
    "plt.plot(x, np.cumsum(y))\n",
    "plt.xticks(x_thicks, x_thicks_labels, rotation='horizontal')\n",
    "plt.show()"
   ]
  },
  {
   "cell_type": "markdown",
   "metadata": {},
   "source": [
    "### **Sympa le bump en mai 2020!**"
   ]
  },
  {
   "cell_type": "markdown",
   "metadata": {},
   "source": [
    "# Evolution de la thunasse les 18 derniers mois"
   ]
  },
  {
   "cell_type": "code",
   "execution_count": 7,
   "metadata": {},
   "outputs": [
    {
     "data": {
      "text/plain": [
       "2019-08-31       0.000000\n",
       "2019-09-30      41.984209\n",
       "2019-10-31      98.644010\n",
       "2019-11-30     120.897700\n",
       "2019-12-31     331.674367\n",
       "2020-01-31      69.661861\n",
       "2020-02-29     293.348781\n",
       "2020-03-31     268.208868\n",
       "2020-04-30     147.394027\n",
       "2020-05-31     167.818400\n",
       "2020-06-30     561.609047\n",
       "2020-07-31       0.000000\n",
       "2020-08-31       0.000000\n",
       "2020-09-30       0.000000\n",
       "2020-10-31      96.433149\n",
       "2020-11-30      96.069344\n",
       "2020-12-31    3892.544651\n",
       "2021-01-31     439.084829\n",
       "Freq: M, dtype: float64"
      ]
     },
     "execution_count": 7,
     "metadata": {},
     "output_type": "execute_result"
    }
   ],
   "source": [
    "index = pd.to_datetime(x,unit=\"s\")\n",
    "series = pd.Series(y, index = index)\n",
    "series.resample('M').sum().tail(18)"
   ]
  },
  {
   "cell_type": "markdown",
   "metadata": {},
   "source": [
    "# Les donateurs"
   ]
  },
  {
   "cell_type": "code",
   "execution_count": 8,
   "metadata": {},
   "outputs": [],
   "source": [
    "members = {}\n",
    "for videoid, videoobj in donations.items():\n",
    "    for msg in videoobj[\"messages\"]:\n",
    "        if \"amount_euros\" in msg:\n",
    "            author = msg[\"author\"]\n",
    "            amount= msg[\"amount_euros\"]\n",
    "            members[author] = members.get(author,0) + amount\n",
    "members = [(k,v) for k,v in members.items()]\n",
    "members.sort(key=lambda a : -a[1])"
   ]
  },
  {
   "cell_type": "code",
   "execution_count": 9,
   "metadata": {},
   "outputs": [
    {
     "name": "stdout",
     "output_type": "stream",
     "text": [
      "419 personnes ont fait au moins un don sur la chaîne\n"
     ]
    }
   ],
   "source": [
    "print(len(members),\"personnes ont fait au moins un don sur la chaîne\")"
   ]
  },
  {
   "cell_type": "markdown",
   "metadata": {},
   "source": [
    "# Les biggest donateurs"
   ]
  },
  {
   "cell_type": "code",
   "execution_count": 10,
   "metadata": {},
   "outputs": [
    {
     "name": "stdout",
     "output_type": "stream",
     "text": [
      "les plus 10 gros donateurs sont : \n",
      "\n",
      "Who Cares : 333 €\n",
      "Taeisbae : 322 €\n",
      "Afro Basket : 219 €\n",
      "The Pink Pill : 172 €\n",
      "Tionna Toy : 172 €\n",
      "eliyanora animalia : 107 €\n",
      "Kay : 99 €\n",
      "D : 88 €\n",
      "Jordan Simone : 86 €\n",
      "TINA D : 86 €\n"
     ]
    }
   ],
   "source": [
    "topk = 10\n",
    "print(\"les plus\",str(topk),\"gros donateurs sont : \")\n",
    "print(\"\")\n",
    "for m,v in members[:topk]:\n",
    "    print(m,\":\",str(round(v)),\"€\")"
   ]
  },
  {
   "cell_type": "markdown",
   "metadata": {},
   "source": [
    "# Distribution des donateurs"
   ]
  },
  {
   "cell_type": "code",
   "execution_count": 11,
   "metadata": {},
   "outputs": [
    {
     "data": {
      "image/png": "[encoded data removed]",
      "text/plain": [
       "<Figure size 432x288 with 1 Axes>"
      ]
     },
     "metadata": {
      "needs_background": "light"
     },
     "output_type": "display_data"
    }
   ],
   "source": [
    "total_part = np.cumsum([item[1] for item in members]) / np.sum([item[1] for item in members])\n",
    "members_part = np.array([i/len(total_part) for i in range(len(total_part))])\n",
    "ndonateurs = np.argmin(np.abs(total_part - 0.5))\n",
    "fifty_resp = round(members_part[np.argmin(np.abs(total_part - 0.5))] * 100,2)\n",
    "eighty_resp = round(members_part[np.argmin(np.abs(total_part - 0.8))] * 100,2)\n",
    "eighty_ndonateurs = np.argmin(np.abs(total_part - 0.8))\n",
    "\n",
    "plt.plot(members_part, total_part)\n",
    "plt.show()"
   ]
  },
  {
   "cell_type": "code",
   "execution_count": 12,
   "metadata": {},
   "outputs": [
    {
     "name": "stdout",
     "output_type": "stream",
     "text": [
      "La moitié du la thunasse des dons proviennent des 11.22 % top donateurs ( ~ 48 donateurs )\n"
     ]
    }
   ],
   "source": [
    "print(\"La moitié du la thunasse des dons proviennent des\",fifty_resp,\"% top donateurs ( ~\",str(ndonateurs+1),\"donateurs )\")"
   ]
  },
  {
   "cell_type": "markdown",
   "metadata": {},
   "source": [
    "## *Magnifique loi des 80/20*"
   ]
  },
  {
   "cell_type": "code",
   "execution_count": 13,
   "metadata": {},
   "outputs": [
    {
     "name": "stdout",
     "output_type": "stream",
     "text": [
      "80% de la thunasse des dons proviennent des 39.38 % top donateurs ( ~ 166 donateurs )\n"
     ]
    }
   ],
   "source": [
    "print(\"80% de la thunasse des dons proviennent des\",eighty_resp,\"% top donateurs ( ~\",str(eighty_ndonateurs+1),\"donateurs )\")"
   ]
  },
  {
   "cell_type": "markdown",
   "metadata": {},
   "source": [
    "# Les plus gros clickers\n",
    "Non pas le volume d'argent mais le nombre de dons"
   ]
  },
  {
   "cell_type": "code",
   "execution_count": 14,
   "metadata": {},
   "outputs": [],
   "source": [
    "class AutoVivification(dict):\n",
    "    \"\"\"Implementation of perl's autovivification feature.\"\"\"\n",
    "    def __getitem__(self, item):\n",
    "        try:\n",
    "            return dict.__getitem__(self, item)\n",
    "        except KeyError:\n",
    "            value = self[item] = type(self)()\n",
    "            return value"
   ]
  },
  {
   "cell_type": "code",
   "execution_count": 17,
   "metadata": {},
   "outputs": [],
   "source": [
    "members = AutoVivification()\n",
    "for videoid, videoobj in donations.items():\n",
    "    for msg in videoobj[\"messages\"]:\n",
    "        if \"amount_euros\" in msg:\n",
    "            author = msg[\"author\"]\n",
    "            amount = msg[\"amount_euros\"]\n",
    "            members[author][\"clicks\"] = members[author].get(\"clicks\",0) + 1\n",
    "            members[author][\"amount\"] = members[author].get(\"amount\",0) + amount"
   ]
  },
  {
   "cell_type": "code",
   "execution_count": 18,
   "metadata": {},
   "outputs": [
    {
     "name": "stdout",
     "output_type": "stream",
     "text": [
      "les 10 plus gros clickers :\n",
      "\n",
      "jay rae : 13 dons\n",
      "Ti Said What Ti Said : 11 dons\n",
      "CutieHoney13 : 11 dons\n",
      "Stephanie J. Woodle : 10 dons\n",
      "JOOCE NTWRK : 8 dons\n",
      "Erika Kane : 8 dons\n",
      "Mocha Mommy : 7 dons\n",
      "Kay : 7 dons\n",
      "Kereign : 7 dons\n",
      "Queen : 6 dons\n"
     ]
    }
   ],
   "source": [
    "clickers = []\n",
    "for name,obj in members.items():\n",
    "    clickers.append((name,obj[\"clicks\"]))\n",
    "clickers.sort(key=lambda a : -a[1])\n",
    "\n",
    "print(\"les 10 plus gros clickers :\")\n",
    "print(\"\")\n",
    "for m,c  in clickers[:10]:\n",
    "    print(m,\":\",c,\"dons\")"
   ]
  },
  {
   "cell_type": "markdown",
   "metadata": {},
   "source": [
    "# Difference clickers vs donateurs"
   ]
  },
  {
   "cell_type": "code",
   "execution_count": 19,
   "metadata": {},
   "outputs": [],
   "source": [
    "occurences = []\n",
    "amount = []\n",
    "for name, obj in members.items():\n",
    "    occurences.append(obj[\"clicks\"])\n",
    "    amount.append(obj[\"amount\"])\n",
    "amount = np.array(amount)\n",
    "occurences = np.array(occurences)"
   ]
  },
  {
   "cell_type": "code",
   "execution_count": 20,
   "metadata": {},
   "outputs": [
    {
     "name": "stderr",
     "output_type": "stream",
     "text": [
      "/home/loic/anaconda3/lib/python3.7/site-packages/ipykernel_launcher.py:1: RuntimeWarning: divide by zero encountered in log\n",
      "  \"\"\"Entry point for launching an IPython kernel.\n"
     ]
    },
    {
     "data": {
      "text/plain": [
       "[<matplotlib.lines.Line2D at 0x7f98f0068510>]"
      ]
     },
     "execution_count": 20,
     "metadata": {},
     "output_type": "execute_result"
    },
    {
     "data": {
      "image/png": "[encoded data removed]",
      "text/plain": [
       "<Figure size 432x288 with 1 Axes>"
      ]
     },
     "metadata": {
      "needs_background": "light"
     },
     "output_type": "display_data"
    }
   ],
   "source": [
    "plt.plot(occurences, np.log(amount), 'o', color='blue')"
   ]
  },
  {
   "cell_type": "code",
   "execution_count": null,
   "metadata": {},
   "outputs": [],
   "source": []
  },
  {
   "cell_type": "code",
   "execution_count": null,
   "metadata": {},
   "outputs": [],
   "source": []
  }
 ],
 "metadata": {
  "kernelspec": {
   "display_name": "Python 3",
   "language": "python",
   "name": "python3"
  },
  "language_info": {
   "codemirror_mode": {
    "name": "ipython",
    "version": 3
   },
   "file_extension": ".py",
   "mimetype": "text/x-python",
   "name": "python",
   "nbconvert_exporter": "python",
   "pygments_lexer": "ipython3",
   "version": "3.7.6"
  }
 },
 "nbformat": 4,
 "nbformat_minor": 4
}
