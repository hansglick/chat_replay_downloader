{
 "cells": [
  {
   "cell_type": "code",
   "execution_count": 7,
   "metadata": {},
   "outputs": [],
   "source": [
    "url = \"https://www.youtube.com/watch?v=FgOnC9ILQTE&ab_channel=ZolaHome\""
   ]
  },
  {
   "cell_type": "code",
   "execution_count": 8,
   "metadata": {},
   "outputs": [],
   "source": [
    "from chat_replay_downloader import *"
   ]
  },
  {
   "cell_type": "code",
   "execution_count": 9,
   "metadata": {},
   "outputs": [
    {
     "name": "stdout",
     "output_type": "stream",
     "text": [
      "[1:03] *€54.99* ahmed TRAORE: Chèque cadeau bien reçu! Merci Zola!\n",
      "[9:42] (New member) waterhny: Welcome to Brokezi & Pickme Blinders!\n",
      "[12:44] (Member (2 months)) Kimberly N.: Welcome to Brokezi & Pickme Blinders!\n",
      "[13:40] *€5.49* mass rimeri: Un pack « bye bye le bagne et hello Michael sci-fi elf hmmm » :face_with_tears_of_joy:\n",
      "[15:06] *€3.49* mass rimeri: MICHAEL SCOFIELD !!!!! Hahhaha\n",
      "[16:18] *€5.00* Ballerine: Ça y est j'ai prise ma place même si je suis une célibatante à vie :face_with_tears_of_joy: ! Je veux juste savoir en vrai :smirking_face:..\n",
      "[19:23] *CA$2.00* Pure Vibers: C'est marqué inscription terminé\n",
      "[19:28] *€5.49* KitKatKati: Après Le branche a branche , le saute mouton, voici le kangourou kangourou\n",
      "[20:06] *€5.00* LalaLa Land: LE plus black love ac notre belle black queen Lori et notre black king Bae Michael mon coloriste fav\n",
      "[20:18] *€2.29* Stefania N: En tous cas , elle n’est pas evian evian :face_with_tears_of_joy:\n",
      "[22:45] *€5.00* Elora Iris: Lori Harvey n’est pas noire comme vous, restez concentrées mesdames mais prenez des notes. \n",
      "[23:12] *€5.00* mimora 269: Zola, tu peux rajouter une place à 44 € stp ? j'ai sorti ma carte qui attend depuiiiiis. Oui, je force :purple_heart::face_with_tears_of_joy::face_with_tears_of_joy:\n",
      "[26:27] *€10.99* mass rimeri: Je me disais qu’elle n’avait rien pris de Steele Harvey hahah Michael b Jordan reste un bon parti très prisé ça profite à lori avant qu’elle ne sorte avec les tonton Pitt, DiCaprio, Stalone\n",
      "[27:58] (Member (2 months)) Naomi: Welcome to Brokezi & Pickme Blinders!\n",
      "[28:36] (Member (2 months)) Ursula Ursubass: Welcome to :hot_pepper:Le Piment!\n",
      "[39:17] *€20.00* Ursula Ursubass: Hello Zola !! Ma petite contribution pour la soute de demain !!!\n",
      "[40:02] *€5.49* muiva rosa: Pour hydrater ta parole :smiling_face_with_halo:\n",
      "[1:01:03] *€5.49* A MT: Je suis pas timide moi, il faut rester! :clapping_hands_medium-dark_skin_tone::loudly_crying_face::loudly_crying_face:\n",
      "[1:02:25] *€5.49* muiva rosa: Hydratons Zola !!!\n",
      "[1:05:18] *€5.00* Ayana Ngaya: quand tu préserves ta vie privée il faut avoir les épaules solides.on te prête des vies extrêmes de la fille prostituée à la bonne soeur. life is hard\n",
      "[1:14:54] *€2.29* KitKatKati: Avec vos gaaares là ! :rolling_on_the_floor_laughing::rolling_on_the_floor_laughing::rolling_on_the_floor_laughing:\n",
      "[1:15:43] *€10.00* Ursula Ursubass: Prenez les packs hein !\n",
      "[1:16:32] *€5.49* Fatim Fama: Vous voulais être comme Lory Harvey ! Acheter les pack de ZolaetAaron ! Et votre vie changera !\n",
      "[1:19:52] *€1.99* LalaLa Land: None\n",
      "[1:22:33] *€5.00* Sébastien: None\n",
      "[1:25:42] *€2.29* Eve Marie: Je viens de comprendre mes 10 années de célibat\n",
      "[1:25:45] *€5.00* mimora 269: ça a l'air génial de jouer au UNO avec Zola, en tout cas :rolling_on_the_floor_laughing::rolling_on_the_floor_laughing:\n",
      "[1:27:14] *€60.00* Carine: bonsoir Zola j'aime tellement quand le temps te donne raison lol on dirait que ça chauffe dans le youtube noir le aide moi à détester :face_with_tears_of_joy::face_with_tears_of_joy::face_with_tears_of_joy::face_with_tears_of_joy::flushed_face::flushed_face::flushed_face::flushed_face: je vais prendre une palette.\n",
      "[1:28:10] *€20.00* Ursula Ursubass: Prenez vous packs seulement !!!\n",
      "[1:33:21] (Member (1 year)) MAGNOLIA Domet: Welcome to Brokezi & Pickme Blinders!\n",
      "[1:35:21] *€10.99* G-E: Vous vous voulez que je vous raconte une histoire drôle ? On m’a contacté pour que je réalise un photomontage. La cliente est âgée et souhaite incrusté sa tête ds le corps de femme jeune :face_with_tears_of_joy:\n"
     ]
    }
   ],
   "source": [
    "dons = get_chat_replay(url = url,message_type = \"superchat\")"
   ]
  },
  {
   "cell_type": "code",
   "execution_count": 29,
   "metadata": {},
   "outputs": [
    {
     "data": {
      "text/plain": [
       "{'timestamp': 1610394754884948,\n",
       " 'author': 'Ballerine',\n",
       " 'amount': '€5.00',\n",
       " 'message': \"Ça y est j'ai prise ma place même si je suis une célibatante à vie 😂 ! Je veux juste savoir en vrai 😏..\",\n",
       " 'header_color': {'rgba': [0, 191, 165, 255], 'hex': '#00bfa5ff'},\n",
       " 'body_color': {'rgba': [29, 233, 182, 255], 'hex': '#1de9b6ff'},\n",
       " 'author_id': 'UCjQ-CKVTnbS8OJ2c5zhsNlQ',\n",
       " 'time_text': '16:18',\n",
       " 'time_in_seconds': 978,\n",
       " 'video_offset_time_msec': 978746}"
      ]
     },
     "execution_count": 29,
     "metadata": {},
     "output_type": "execute_result"
    }
   ],
   "source": []
  }
 ],
 "metadata": {
  "kernelspec": {
   "display_name": "music",
   "language": "python",
   "name": "music"
  },
  "language_info": {
   "codemirror_mode": {
    "name": "ipython",
    "version": 3
   },
   "file_extension": ".py",
   "mimetype": "text/x-python",
   "name": "python",
   "nbconvert_exporter": "python",
   "pygments_lexer": "ipython3",
   "version": "3.7.9"
  }
 },
 "nbformat": 4,
 "nbformat_minor": 4
}
