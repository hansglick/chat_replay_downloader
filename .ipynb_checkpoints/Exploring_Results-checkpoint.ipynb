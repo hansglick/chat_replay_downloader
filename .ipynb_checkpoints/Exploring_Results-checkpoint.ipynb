{
 "cells": [
  {
   "cell_type": "code",
   "execution_count": 17,
   "metadata": {},
   "outputs": [],
   "source": [
    "import json\n",
    "from fun import *"
   ]
  },
  {
   "cell_type": "code",
   "execution_count": 13,
   "metadata": {},
   "outputs": [
    {
     "name": "stdout",
     "output_type": "stream",
     "text": [
      "URL :  https://www.youtube.com/watch?v=KHSlJs8iUDs&ab_channel=ZolaHome\n",
      "Durée de la vidéo :  1:28:09\n",
      "Récolte Totale :  0\n",
      "Don Max :  0\n",
      "Nombre de dons :  38\n",
      "\n",
      "URL :  https://www.youtube.com/watch?v=0yzdzKz2HsI&ab_channel=ZolaHome\n",
      "Durée de la vidéo :  1:05:35\n",
      "Récolte Totale :  0\n",
      "Don Max :  0\n",
      "Nombre de dons :  13\n",
      "\n",
      "URL :  https://www.youtube.com/watch?v=QRi92Y9GpaY&ab_channel=ZolaHome\n",
      "Durée de la vidéo :  1:58:32\n",
      "Récolte Totale :  0\n",
      "Don Max :  0\n",
      "Nombre de dons :  85\n",
      "\n",
      "URL :  https://www.youtube.com/watch?v=JfiyolBCdk8&ab_channel=ZolaHome\n",
      "Durée de la vidéo :  4:16:50\n",
      "Récolte Totale :  0\n",
      "Don Max :  0\n",
      "Nombre de dons :  88\n",
      "\n",
      "URL :  https://www.youtube.com/watch?v=8C5UZFAyBbM&ab_channel=ZolaHome\n",
      "Durée de la vidéo :  0:26:38\n",
      "Récolte Totale :  0\n",
      "Don Max :  0\n",
      "Nombre de dons :  36\n",
      "\n",
      "URL :  https://www.youtube.com/watch?v=DNHaLmRqGcc&ab_channel=ZolaHome\n",
      "Durée de la vidéo :  1:14:12\n",
      "Récolte Totale :  0\n",
      "Don Max :  0\n",
      "Nombre de dons :  10\n",
      "\n",
      "URL :  https://www.youtube.com/watch?v=9xuiI-z8dT4&ab_channel=ZolaHome\n",
      "Durée de la vidéo :  1:51:52\n",
      "Récolte Totale :  0\n",
      "Don Max :  0\n",
      "Nombre de dons :  31\n",
      "\n",
      "URL :  https://www.youtube.com/watch?v=5Dm6-fAx3-g&ab_channel=ZolaHome\n",
      "Durée de la vidéo :  1:35:33\n",
      "Récolte Totale :  0\n",
      "Don Max :  0\n",
      "Nombre de dons :  36\n",
      "\n",
      "URL :  https://www.youtube.com/watch?v=ZWItFmvoNJE&ab_channel=ZolaHome\n",
      "Durée de la vidéo :  2:13:40\n",
      "Récolte Totale :  0\n",
      "Don Max :  0\n",
      "Nombre de dons :  81\n",
      "\n",
      "URL :  https://www.youtube.com/watch?v=x43XEB0kdXA&ab_channel=ZolaHome\n",
      "Durée de la vidéo :  1:24:06\n",
      "Récolte Totale :  0\n",
      "Don Max :  0\n",
      "Nombre de dons :  28\n",
      "\n",
      "URL :  https://www.youtube.com/watch?v=HuzCHXYp9QQ&ab_channel=ZolaHome\n",
      "Durée de la vidéo :  2:45:54\n",
      "Récolte Totale :  0\n",
      "Don Max :  0\n",
      "Nombre de dons :  49\n",
      "\n",
      "URL :  https://www.youtube.com/watch?v=OFiAEyh-Frw&ab_channel=ZolaHome\n",
      "Durée de la vidéo :  1:44:30\n",
      "Récolte Totale :  0\n",
      "Don Max :  0\n",
      "Nombre de dons :  57\n",
      "\n",
      "URL :  https://www.youtube.com/watch?v=hlCpcXIEOYw&ab_channel=ZolaHome\n",
      "Durée de la vidéo :  2:06:39\n",
      "Récolte Totale :  0\n",
      "Don Max :  0\n",
      "Nombre de dons :  17\n",
      "\n"
     ]
    }
   ],
   "source": [
    "filename = \"zola.json\"\n",
    "\n",
    "with open(filename) as json_file: \n",
    "    videos = json.load(json_file)\n",
    "\n",
    "for k,v in videos.items():\n",
    "    print(\"URL : \",k)\n",
    "    print(\"Durée de la vidéo : \",v[\"resume\"][\"duration_str\"])\n",
    "    print(\"Récolte Totale : \",v[\"resume\"][\"donations_total\"])\n",
    "    print(\"Don Max : \", v[\"resume\"][\"biggest_donation\"])\n",
    "    print(\"Nombre de dons : \",v[\"resume\"][\"donations_n\"])\n",
    "    print(\"\")"
   ]
  },
  {
   "cell_type": "code",
   "execution_count": 16,
   "metadata": {},
   "outputs": [],
   "source": [
    "am = videos[\"https://www.youtube.com/watch?v=OFiAEyh-Frw&ab_channel=ZolaHome\"][\"messages\"][0][\"amount\"]"
   ]
  },
  {
   "cell_type": "code",
   "execution_count": 18,
   "metadata": {},
   "outputs": [
    {
     "data": {
      "text/plain": [
       "(15.0, '€')"
      ]
     },
     "execution_count": 18,
     "metadata": {},
     "output_type": "execute_result"
    }
   ],
   "source": [
    "Extract_Amount_And_Currency_wo_compile(am)"
   ]
  },
  {
   "cell_type": "code",
   "execution_count": null,
   "metadata": {},
   "outputs": [],
   "source": [
    "filename = \"naturi.json\"\n",
    "\n",
    "with open(filename) as json_file: \n",
    "    videos = json.load(json_file)\n",
    "\n",
    "for k,v in videos.items():\n",
    "    print(\"URL : \",k)\n",
    "    print(\"Durée de la vidéo : \",v[\"resume\"][\"duration_str\"])\n",
    "    print(\"Récolte Totale : \",v[\"resume\"][\"donations_total\"])\n",
    "    print(\"Don Max : \", v[\"resume\"][\"biggest_donation\"])\n",
    "    print(\"Nombre de dons : \",v[\"resume\"][\"donations_n\"])\n",
    "    print(\"\")"
   ]
  },
  {
   "cell_type": "code",
   "execution_count": null,
   "metadata": {},
   "outputs": [],
   "source": [
    "filename = \"dailywire.json\"\n",
    "\n",
    "with open(filename) as json_file: \n",
    "    videos = json.load(json_file)\n",
    "\n",
    "for k,v in videos.items():\n",
    "    print(\"URL : \",k)\n",
    "    print(\"Durée de la vidéo : \",v[\"resume\"][\"duration_str\"])\n",
    "    print(\"Récolte Totale : \",v[\"resume\"][\"donations_total\"])\n",
    "    print(\"Don Max : \", v[\"resume\"][\"biggest_donation\"])\n",
    "    print(\"Nombre de dons : \",v[\"resume\"][\"donations_n\"])\n",
    "    print(\"\")"
   ]
  },
  {
   "cell_type": "code",
   "execution_count": 10,
   "metadata": {},
   "outputs": [
    {
     "data": {
      "text/plain": [
       "{'start_str': '2020-12-06 13:20:49',\n",
       " 'start_unix': 1607257249,\n",
       " 'end_str': '2020-12-06 14:48:59',\n",
       " 'end_unix': 1607262539,\n",
       " 'duration_seconds': 5289,\n",
       " 'duration_str': '1:28:09',\n",
       " 'donations_total': 0,\n",
       " 'biggest_donation': 0,\n",
       " 'biggest_donator': 'Carine',\n",
       " 'donations_n': 38}"
      ]
     },
     "execution_count": 10,
     "metadata": {},
     "output_type": "execute_result"
    }
   ],
   "source": [
    "videos[\"https://www.youtube.com/watch?v=KHSlJs8iUDs&ab_channel=ZolaHome\"][\"resume\"]"
   ]
  }
 ],
 "metadata": {
  "kernelspec": {
   "display_name": "music",
   "language": "python",
   "name": "music"
  },
  "language_info": {
   "codemirror_mode": {
    "name": "ipython",
    "version": 3
   },
   "file_extension": ".py",
   "mimetype": "text/x-python",
   "name": "python",
   "nbconvert_exporter": "python",
   "pygments_lexer": "ipython3",
   "version": "3.7.9"
  }
 },
 "nbformat": 4,
 "nbformat_minor": 2
}
