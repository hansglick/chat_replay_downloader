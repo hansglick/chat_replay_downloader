{
 "cells": [
  {
   "cell_type": "code",
   "execution_count": 1,
   "metadata": {},
   "outputs": [],
   "source": [
    "from chat_replay_downloader import *\n",
    "from unicodedata import normalize\n",
    "import re\n",
    "import json\n",
    "import time\n",
    "import datetime\n",
    "from fun import *"
   ]
  },
  {
   "cell_type": "code",
   "execution_count": 2,
   "metadata": {},
   "outputs": [
    {
     "name": "stdout",
     "output_type": "stream",
     "text": [
      "[0:50] *€2.00* ARY: Much love :face_blowing_a_kiss:\n",
      "[3:06] (New member) Johanna: Welcome to :bread:La Brioche!\n",
      "[3:10] *€7.00* Namiko: Zola comment ça tu es deja la ? il faut du repos :purple_heart::clinking_glasses: tu as trop bossé ici\n",
      "[5:09] *€7.00* Namande O: Ma chère Zola tu es de retour ??? Les Capucharlottes ne t'ont pas épuisée ? Perso je suis KO. TCHINGELING\n",
      "[5:29] *€5.00* Carine: :heart_suit_selector:\n",
      "[5:39] *€15.00* Leila: Petit don, parce que cet après-midi on t'en as fait voir de toutes les couleurs. On t'aime Zola :face_blowing_a_kiss:\n",
      "[6:42] (New member) Aissatou Diallo: Upgraded membership to :bread::high-heeled_shoe:Le Vif d'Or!\n",
      "[9:05] *€10.99* Nadine: :purple_heart:\n",
      "[14:48] *€5.49* G-E: Zola, as-tu préparé la valise d’Aaron ? (Ref Caputalk)\n",
      "[53:33] *€2.00* Lady Hamilton xoxo: Chris et Zola, the best duo :two_hearts::two_hearts::two_hearts:\n",
      "[53:48] *€2.29* Ruth: None\n",
      "[53:58] *€7.00* Namande O: Vous aimez le piment de Chris ? sortez vos 7e et plus pour les vifs d'or. TCHINGELING :gem_stone::gem_stone::gem_stone::gem_stone::gem_stone::gem_stone::gem_stone::gem_stone: Son rire là\n",
      "[54:47] *€5.49* Fanta CKO: :hot_pepper::hot_pepper::hot_pepper:\n",
      "[55:38] *€7.00* Namiko: Aller @NamandeO je suis pour tonton Chris\n",
      "[56:00] *€10.00* Purple Luxury: None\n",
      "[56:59] *€5.00* Leila: C'est des michtonneurs !\n",
      "[57:03] *€10.99* Inna S: Une histoire vreuuumant\n",
      "[57:16] *€100.00* Fatouma A: Week end Capucha plus que plus ! Merci pour tout Zola:purple_heart::yellow_heart::purple_heart:. Bonne nuit les zoiveuses.\n",
      "[58:41] *€5.49* Lily: Un dimanche parfais avec vous :red_heart_selector:\n",
      "[1:00:16] *€5.00* Leyann D: None\n",
      "[1:18:52] *€20.00* Sira_w: :hot_pepper::bread::hot_pepper::bread::hot_pepper::bread::hot_pepper::bread:\n",
      "[1:41:43] *€20.00* Diirly: Bonsoir Zola et à tous !\n",
      "[1:42:38] *€5.00* Tshi: None\n",
      "[3:58] *€5.00* La mélaninée29: Joyeux Noël Zola :smiling_face_with_smiling_eyes::smiling_face_with_smiling_eyes::smiling_face_with_smiling_eyes:\n",
      "[10:23] *€50.00* Ayana Ngaya: Hey Zola!!! Bonnes fêtes à toi et tes proches. Je suis contente d'avoir connu ta chaîne il y a un an. J'espère participer à un de tes événements l'année prochaine. Tu as réussi à convaincre une septique née :face_with_tears_of_joy:. Merci encore pour ton travail :bottle_with_popping_cork:\n",
      "[15:46] *€55.00* Carine: Ai je encore besoin de m'exprimer ? 20k mis de côté cette année en t'écoutant merci Zola de nous aimer comme tu le fais :purple_heart:\n",
      "[16:57] *€2.00* Lauraine L: Merry Christmas :Christmas_tree: Thanks for everything :relieved_face:\n",
      "[22:56] (Member (6 months)) Jemima: Welcome to :hot_pepper::bread:Piment & Brioche!\n",
      "[28:08] *€54.99* ahmed TRAORE: None\n",
      "[28:32] *€10.99* ahmed TRAORE: None\n",
      "[29:40] *€30.00* Emilie: Zola, merci pour tout ton travail et ton énergie :red_heart_selector: Joyeux Noël la Zoivance ! PS: c'est aussi le mois des Capricorne et les kdos 2 en 1 ne sont plus acceptés par la maison, merci de respecter vos copines/amies :grinning_face_with_sweat:\n",
      "[30:59] *€5.49* Alie Mariame: None\n",
      "[58:03] *€20.00* Bee Me: Joyeux Noël Zola.:grinning_face:\n",
      "[1:15:52] *€5.00* elianeasiam: Mon frere scorpion m'a dit \"mais Eliane tu m'offres tjrs des chemises alors que j'en mets pas \" ;o((((((\n",
      "[1:23:07] *€5.49* Jemima: Je te souhaite pleins de bonnes choses Zola :red_heart_selector::clinking_glasses::clinking_glasses:\n",
      "[2:08:12] *€5.49* JJ J: Un épisode Toxic Romance 333 spécial Ivar the boneless ? ( Viking ) si oui quand ? Et Joyeux Noël :wrapped_gift::Christmas_tree: :purple_heart:\n",
      "[2:08:23] *€5.00* Sira bis bis: Un sac Letanneur en tant que sac de tous les jours, ça passe ?\n",
      "[2:10:15] *€5.00* Sira bis bis: Merci. J'arrive pas à me décider :face_blowing_a_kiss::face_blowing_a_kiss::face_blowing_a_kiss:\n",
      "[2:12:12] *€27.99* logan arnd: Hola j’arrive à la fin damn ! en tout cas Joyeux Noël à la Zoivancia :partying_face::clinking_glasses:\n",
      "[2:17:30] (Member (2 months)) ley azer: Welcome to Brokezi & Pickme Blinders!\n"
     ]
    }
   ],
   "source": [
    "urls_list = [\"https://www.youtube.com/watch?v=BUK3YcnBrnM&ab_channel=ZolaHome\",\n",
    "\"https://www.youtube.com/watch?v=idnUBapbeY4&ab_channel=ZolaHome\"\n",
    "]\n",
    "video = Get_Money(urls_list)"
   ]
  },
  {
   "cell_type": "code",
   "execution_count": 3,
   "metadata": {},
   "outputs": [
    {
     "name": "stdout",
     "output_type": "stream",
     "text": [
      "https://www.youtube.com/watch?v=BUK3YcnBrnM&ab_channel=ZolaHome\n",
      "39\n",
      "{'start_str': '2020-07-05 21:25:55', 'start_unix': 1593977155, 'end_str': '2020-07-05 23:07:44', 'end_unix': 1593983264, 'duration_seconds': 6108, 'duration_str': '1:41:48', 'donations_total': 0, 'biggest_donation': 0, 'biggest_donator': 'ARY', 'donations_n': 39}\n",
      "\n",
      "https://www.youtube.com/watch?v=idnUBapbeY4&ab_channel=ZolaHome\n",
      "29\n",
      "{'start_str': '2020-12-25 17:12:33', 'start_unix': 1608912753, 'end_str': '2020-12-25 19:26:04', 'end_unix': 1608920764, 'duration_seconds': 8011, 'duration_str': '2:13:31', 'donations_total': 0, 'biggest_donation': 0, 'biggest_donator': 'La mélaninée29', 'donations_n': 29}\n",
      "\n"
     ]
    }
   ],
   "source": [
    "for k,v in video.items():\n",
    "    print(k)\n",
    "    print(v[\"errors\"])\n",
    "    print(v[\"resume\"])\n",
    "    print(\"\")"
   ]
  }
 ],
 "metadata": {
  "kernelspec": {
   "display_name": "music",
   "language": "python",
   "name": "music"
  },
  "language_info": {
   "codemirror_mode": {
    "name": "ipython",
    "version": 3
   },
   "file_extension": ".py",
   "mimetype": "text/x-python",
   "name": "python",
   "nbconvert_exporter": "python",
   "pygments_lexer": "ipython3",
   "version": "3.7.9"
  }
 },
 "nbformat": 4,
 "nbformat_minor": 4
}
