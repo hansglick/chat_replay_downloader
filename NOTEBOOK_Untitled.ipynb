{
 "cells": [
  {
   "cell_type": "code",
   "execution_count": 30,
   "metadata": {},
   "outputs": [],
   "source": [
    "url = \"https://www.youtube.com/watch?v=hygXbdm0dOY\""
   ]
  },
  {
   "cell_type": "code",
   "execution_count": 31,
   "metadata": {},
   "outputs": [],
   "source": [
    "from chat_replay_downloader import *"
   ]
  },
  {
   "cell_type": "code",
   "execution_count": 32,
   "metadata": {},
   "outputs": [
    {
     "name": "stdout",
     "output_type": "stream",
     "text": [
      "[24:39] (Member (4 months)) Inna S: Welcome to Brokezi & Pickme Blinders!\n",
      "[24:48] (Member (3 months)) Nadia T: Welcome to :hot_pepper:Le Piment!\n"
     ]
    }
   ],
   "source": [
    "dons = get_chat_replay(url = url,message_type = \"superchat\")"
   ]
  },
  {
   "cell_type": "code",
   "execution_count": 29,
   "metadata": {},
   "outputs": [
    {
     "data": {
      "text/plain": [
       "{'timestamp': 1610394754884948,\n",
       " 'author': 'Ballerine',\n",
       " 'amount': '€5.00',\n",
       " 'message': \"Ça y est j'ai prise ma place même si je suis une célibatante à vie 😂 ! Je veux juste savoir en vrai 😏..\",\n",
       " 'header_color': {'rgba': [0, 191, 165, 255], 'hex': '#00bfa5ff'},\n",
       " 'body_color': {'rgba': [29, 233, 182, 255], 'hex': '#1de9b6ff'},\n",
       " 'author_id': 'UCjQ-CKVTnbS8OJ2c5zhsNlQ',\n",
       " 'time_text': '16:18',\n",
       " 'time_in_seconds': 978,\n",
       " 'video_offset_time_msec': 978746}"
      ]
     },
     "execution_count": 29,
     "metadata": {},
     "output_type": "execute_result"
    }
   ],
   "source": []
  }
 ],
 "metadata": {
  "kernelspec": {
   "display_name": "music",
   "language": "python",
   "name": "music"
  },
  "language_info": {
   "codemirror_mode": {
    "name": "ipython",
    "version": 3
   },
   "file_extension": ".py",
   "mimetype": "text/x-python",
   "name": "python",
   "nbconvert_exporter": "python",
   "pygments_lexer": "ipython3",
   "version": "3.7.9"
  }
 },
 "nbformat": 4,
 "nbformat_minor": 4
}
